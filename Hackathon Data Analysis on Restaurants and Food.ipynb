{
 "cells": [
  {
   "cell_type": "code",
   "execution_count": 1,
   "id": "3d3a4d14-fa17-41b7-b482-92551e5efe49",
   "metadata": {},
   "outputs": [],
   "source": [
    "import pandas as pd\n",
    "import numpy as np\n",
    "import matplotlib.pyplot as plt\n",
    "import seaborn as sns"
   ]
  },
  {
   "cell_type": "code",
   "execution_count": 2,
   "id": "a047ee7d-47e6-4720-adbb-8ed2985c2460",
   "metadata": {},
   "outputs": [
    {
     "name": "stdout",
     "output_type": "stream",
     "text": [
      "Requirement already satisfied: geopy in c:\\users\\dappi\\anaconda3\\lib\\site-packages (2.4.1)\n",
      "Requirement already satisfied: geographiclib<3,>=1.52 in c:\\users\\dappi\\anaconda3\\lib\\site-packages (from geopy) (2.0)\n"
     ]
    },
    {
     "name": "stderr",
     "output_type": "stream",
     "text": [
      "C:\\Users\\dappi\\AppData\\Local\\Temp\\ipykernel_7052\\3655213581.py:4: DeprecationWarning: Importing display from IPython.core.display is deprecated since IPython 7.14, please import from IPython display\n",
      "  from IPython.core.display import display, HTML\n"
     ]
    }
   ],
   "source": [
    "! pip install geopy\n",
    "from geopy.geocoders import Nominatim\n",
    "from geopy.exc import GeocoderTimedOut\n",
    "from IPython.core.display import display, HTML\n",
    "import time"
   ]
  },
  {
   "cell_type": "code",
   "execution_count": 3,
   "id": "55e8debf-8b72-4950-ba95-42b3e4cc35a9",
   "metadata": {},
   "outputs": [
    {
     "data": {
      "text/html": [
       "<div>\n",
       "<style scoped>\n",
       "    .dataframe tbody tr th:only-of-type {\n",
       "        vertical-align: middle;\n",
       "    }\n",
       "\n",
       "    .dataframe tbody tr th {\n",
       "        vertical-align: top;\n",
       "    }\n",
       "\n",
       "    .dataframe thead th {\n",
       "        text-align: right;\n",
       "    }\n",
       "</style>\n",
       "<table border=\"1\" class=\"dataframe\">\n",
       "  <thead>\n",
       "    <tr style=\"text-align: right;\">\n",
       "      <th></th>\n",
       "      <th>online_order</th>\n",
       "      <th>book_table</th>\n",
       "      <th>rate</th>\n",
       "      <th>votes</th>\n",
       "      <th>rest_type</th>\n",
       "      <th>dish_liked</th>\n",
       "      <th>cuisines</th>\n",
       "      <th>approx_costfor_two_people</th>\n",
       "      <th>listed_intype</th>\n",
       "      <th>listed_incity</th>\n",
       "    </tr>\n",
       "  </thead>\n",
       "  <tbody>\n",
       "    <tr>\n",
       "      <th>0</th>\n",
       "      <td>Yes</td>\n",
       "      <td>Yes</td>\n",
       "      <td>4.1/5</td>\n",
       "      <td>775</td>\n",
       "      <td>Casual Dining</td>\n",
       "      <td>Pasta, Lunch Buffet, Masala Papad, Paneer Laja...</td>\n",
       "      <td>North Indian, Mughlai, Chinese</td>\n",
       "      <td>800</td>\n",
       "      <td>Buffet</td>\n",
       "      <td>Banashankari</td>\n",
       "    </tr>\n",
       "    <tr>\n",
       "      <th>1</th>\n",
       "      <td>Yes</td>\n",
       "      <td>No</td>\n",
       "      <td>4.1/5</td>\n",
       "      <td>787</td>\n",
       "      <td>Casual Dining</td>\n",
       "      <td>Momos, Lunch Buffet, Chocolate Nirvana, Thai G...</td>\n",
       "      <td>Chinese, North Indian, Thai</td>\n",
       "      <td>800</td>\n",
       "      <td>Buffet</td>\n",
       "      <td>Banashankari</td>\n",
       "    </tr>\n",
       "    <tr>\n",
       "      <th>2</th>\n",
       "      <td>Yes</td>\n",
       "      <td>No</td>\n",
       "      <td>3.8/5</td>\n",
       "      <td>918</td>\n",
       "      <td>Cafe, Casual Dining</td>\n",
       "      <td>Churros, Cannelloni, Minestrone Soup, Hot Choc...</td>\n",
       "      <td>Cafe, Mexican, Italian</td>\n",
       "      <td>800</td>\n",
       "      <td>Buffet</td>\n",
       "      <td>Banashankari</td>\n",
       "    </tr>\n",
       "    <tr>\n",
       "      <th>3</th>\n",
       "      <td>No</td>\n",
       "      <td>No</td>\n",
       "      <td>3.7/5</td>\n",
       "      <td>88</td>\n",
       "      <td>Quick Bites</td>\n",
       "      <td>Masala Dosa</td>\n",
       "      <td>South Indian, North Indian</td>\n",
       "      <td>300</td>\n",
       "      <td>Buffet</td>\n",
       "      <td>Banashankari</td>\n",
       "    </tr>\n",
       "    <tr>\n",
       "      <th>4</th>\n",
       "      <td>No</td>\n",
       "      <td>No</td>\n",
       "      <td>3.8/5</td>\n",
       "      <td>166</td>\n",
       "      <td>Casual Dining</td>\n",
       "      <td>Panipuri, Gol Gappe</td>\n",
       "      <td>North Indian, Rajasthani</td>\n",
       "      <td>600</td>\n",
       "      <td>Buffet</td>\n",
       "      <td>Banashankari</td>\n",
       "    </tr>\n",
       "    <tr>\n",
       "      <th>...</th>\n",
       "      <td>...</td>\n",
       "      <td>...</td>\n",
       "      <td>...</td>\n",
       "      <td>...</td>\n",
       "      <td>...</td>\n",
       "      <td>...</td>\n",
       "      <td>...</td>\n",
       "      <td>...</td>\n",
       "      <td>...</td>\n",
       "      <td>...</td>\n",
       "    </tr>\n",
       "    <tr>\n",
       "      <th>51712</th>\n",
       "      <td>No</td>\n",
       "      <td>No</td>\n",
       "      <td>3.6 /5</td>\n",
       "      <td>27</td>\n",
       "      <td>Bar</td>\n",
       "      <td>NaN</td>\n",
       "      <td>Continental</td>\n",
       "      <td>1,500</td>\n",
       "      <td>Pubs and bars</td>\n",
       "      <td>Whitefield</td>\n",
       "    </tr>\n",
       "    <tr>\n",
       "      <th>51713</th>\n",
       "      <td>No</td>\n",
       "      <td>No</td>\n",
       "      <td>NaN</td>\n",
       "      <td>0</td>\n",
       "      <td>Bar</td>\n",
       "      <td>NaN</td>\n",
       "      <td>Finger Food</td>\n",
       "      <td>600</td>\n",
       "      <td>Pubs and bars</td>\n",
       "      <td>Whitefield</td>\n",
       "    </tr>\n",
       "    <tr>\n",
       "      <th>51714</th>\n",
       "      <td>No</td>\n",
       "      <td>No</td>\n",
       "      <td>NaN</td>\n",
       "      <td>0</td>\n",
       "      <td>Bar</td>\n",
       "      <td>NaN</td>\n",
       "      <td>Finger Food</td>\n",
       "      <td>2,000</td>\n",
       "      <td>Pubs and bars</td>\n",
       "      <td>Whitefield</td>\n",
       "    </tr>\n",
       "    <tr>\n",
       "      <th>51715</th>\n",
       "      <td>No</td>\n",
       "      <td>Yes</td>\n",
       "      <td>4.3 /5</td>\n",
       "      <td>236</td>\n",
       "      <td>Bar</td>\n",
       "      <td>Cocktails, Pizza, Buttermilk</td>\n",
       "      <td>Finger Food</td>\n",
       "      <td>2,500</td>\n",
       "      <td>Pubs and bars</td>\n",
       "      <td>Whitefield</td>\n",
       "    </tr>\n",
       "    <tr>\n",
       "      <th>51716</th>\n",
       "      <td>No</td>\n",
       "      <td>No</td>\n",
       "      <td>3.4 /5</td>\n",
       "      <td>13</td>\n",
       "      <td>Bar, Casual Dining</td>\n",
       "      <td>NaN</td>\n",
       "      <td>Finger Food, North Indian, Continental</td>\n",
       "      <td>1,500</td>\n",
       "      <td>Pubs and bars</td>\n",
       "      <td>Whitefield</td>\n",
       "    </tr>\n",
       "  </tbody>\n",
       "</table>\n",
       "<p>51717 rows × 10 columns</p>\n",
       "</div>"
      ],
      "text/plain": [
       "      online_order book_table    rate  votes            rest_type  \\\n",
       "0              Yes        Yes   4.1/5    775        Casual Dining   \n",
       "1              Yes         No   4.1/5    787        Casual Dining   \n",
       "2              Yes         No   3.8/5    918  Cafe, Casual Dining   \n",
       "3               No         No   3.7/5     88          Quick Bites   \n",
       "4               No         No   3.8/5    166        Casual Dining   \n",
       "...            ...        ...     ...    ...                  ...   \n",
       "51712           No         No  3.6 /5     27                  Bar   \n",
       "51713           No         No     NaN      0                  Bar   \n",
       "51714           No         No     NaN      0                  Bar   \n",
       "51715           No        Yes  4.3 /5    236                  Bar   \n",
       "51716           No         No  3.4 /5     13   Bar, Casual Dining   \n",
       "\n",
       "                                              dish_liked  \\\n",
       "0      Pasta, Lunch Buffet, Masala Papad, Paneer Laja...   \n",
       "1      Momos, Lunch Buffet, Chocolate Nirvana, Thai G...   \n",
       "2      Churros, Cannelloni, Minestrone Soup, Hot Choc...   \n",
       "3                                            Masala Dosa   \n",
       "4                                    Panipuri, Gol Gappe   \n",
       "...                                                  ...   \n",
       "51712                                                NaN   \n",
       "51713                                                NaN   \n",
       "51714                                                NaN   \n",
       "51715                       Cocktails, Pizza, Buttermilk   \n",
       "51716                                                NaN   \n",
       "\n",
       "                                     cuisines approx_costfor_two_people  \\\n",
       "0              North Indian, Mughlai, Chinese                       800   \n",
       "1                 Chinese, North Indian, Thai                       800   \n",
       "2                      Cafe, Mexican, Italian                       800   \n",
       "3                  South Indian, North Indian                       300   \n",
       "4                    North Indian, Rajasthani                       600   \n",
       "...                                       ...                       ...   \n",
       "51712                             Continental                     1,500   \n",
       "51713                             Finger Food                       600   \n",
       "51714                             Finger Food                     2,000   \n",
       "51715                             Finger Food                     2,500   \n",
       "51716  Finger Food, North Indian, Continental                     1,500   \n",
       "\n",
       "       listed_intype listed_incity  \n",
       "0             Buffet  Banashankari  \n",
       "1             Buffet  Banashankari  \n",
       "2             Buffet  Banashankari  \n",
       "3             Buffet  Banashankari  \n",
       "4             Buffet  Banashankari  \n",
       "...              ...           ...  \n",
       "51712  Pubs and bars    Whitefield  \n",
       "51713  Pubs and bars    Whitefield  \n",
       "51714  Pubs and bars    Whitefield  \n",
       "51715  Pubs and bars    Whitefield  \n",
       "51716  Pubs and bars    Whitefield  \n",
       "\n",
       "[51717 rows x 10 columns]"
      ]
     },
     "execution_count": 3,
     "metadata": {},
     "output_type": "execute_result"
    }
   ],
   "source": [
    "df=pd.read_csv(\"C:\\\\Users\\\\dappi\\\\Downloads\\\\zomato_data.csv\")\n",
    "df"
   ]
  },
  {
   "cell_type": "markdown",
   "id": "6165c9ac-c4bf-469e-9097-f3c1acc013c1",
   "metadata": {},
   "source": [
    "# What is the shape of the given dataset"
   ]
  },
  {
   "cell_type": "code",
   "execution_count": 4,
   "id": "b039bd69-d00d-49f2-8bd5-46301fb5dfe7",
   "metadata": {},
   "outputs": [
    {
     "data": {
      "text/plain": [
       "(51717, 10)"
      ]
     },
     "execution_count": 4,
     "metadata": {},
     "output_type": "execute_result"
    }
   ],
   "source": [
    "df.shape"
   ]
  },
  {
   "cell_type": "code",
   "execution_count": 5,
   "id": "574aeb53-f707-4b5d-8b3c-74a01869cb8d",
   "metadata": {},
   "outputs": [
    {
     "name": "stdout",
     "output_type": "stream",
     "text": [
      "<class 'pandas.core.frame.DataFrame'>\n",
      "RangeIndex: 51717 entries, 0 to 51716\n",
      "Data columns (total 10 columns):\n",
      " #   Column                     Non-Null Count  Dtype \n",
      "---  ------                     --------------  ----- \n",
      " 0   online_order               51717 non-null  object\n",
      " 1   book_table                 51717 non-null  object\n",
      " 2   rate                       43942 non-null  object\n",
      " 3   votes                      51717 non-null  int64 \n",
      " 4   rest_type                  51490 non-null  object\n",
      " 5   dish_liked                 23639 non-null  object\n",
      " 6   cuisines                   51672 non-null  object\n",
      " 7   approx_costfor_two_people  51371 non-null  object\n",
      " 8   listed_intype              51717 non-null  object\n",
      " 9   listed_incity              51717 non-null  object\n",
      "dtypes: int64(1), object(9)\n",
      "memory usage: 3.9+ MB\n"
     ]
    }
   ],
   "source": [
    "df.info()"
   ]
  },
  {
   "cell_type": "markdown",
   "id": "ab2a45ec-69bc-4790-b4f3-5a0be5d5124a",
   "metadata": {},
   "source": [
    "# Checking null values in the dataset.."
   ]
  },
  {
   "cell_type": "code",
   "execution_count": 6,
   "id": "2a3f4267-a001-4929-8a22-462e56897589",
   "metadata": {},
   "outputs": [
    {
     "data": {
      "text/plain": [
       "online_order                     0\n",
       "book_table                       0\n",
       "rate                          7775\n",
       "votes                            0\n",
       "rest_type                      227\n",
       "dish_liked                   28078\n",
       "cuisines                        45\n",
       "approx_costfor_two_people      346\n",
       "listed_intype                    0\n",
       "listed_incity                    0\n",
       "dtype: int64"
      ]
     },
     "execution_count": 6,
     "metadata": {},
     "output_type": "execute_result"
    }
   ],
   "source": [
    "df.isnull().sum()"
   ]
  },
  {
   "cell_type": "code",
   "execution_count": 7,
   "id": "baf6bcd9-3f5a-45df-aac8-b677de672af5",
   "metadata": {},
   "outputs": [
    {
     "data": {
      "text/plain": [
       "online_order                  0.000000\n",
       "book_table                    0.000000\n",
       "rate                         15.033741\n",
       "votes                         0.000000\n",
       "rest_type                     0.438927\n",
       "dish_liked                   54.291626\n",
       "cuisines                      0.087012\n",
       "approx_costfor_two_people     0.669026\n",
       "listed_intype                 0.000000\n",
       "listed_incity                 0.000000\n",
       "dtype: float64"
      ]
     },
     "execution_count": 7,
     "metadata": {},
     "output_type": "execute_result"
    }
   ],
   "source": [
    "(df.isnull().sum()/len(df))*100"
   ]
  },
  {
   "cell_type": "markdown",
   "id": "d8cdbb31-820b-4d1f-9267-a1afb9e65de1",
   "metadata": {},
   "source": [
    "# Data Cleaning:"
   ]
  },
  {
   "cell_type": "code",
   "execution_count": 8,
   "id": "650acacc-28ef-4d9c-8c19-ad35ddeda1f5",
   "metadata": {},
   "outputs": [
    {
     "data": {
      "text/plain": [
       "rate\n",
       "NEW       2208\n",
       "3.9/5     2098\n",
       "3.8/5     2022\n",
       "3.7/5     2011\n",
       "3.9 /5    1874\n",
       "          ... \n",
       "2.2 /5       7\n",
       "2.0 /5       7\n",
       "2.0/5        4\n",
       "1.8 /5       3\n",
       "1.8/5        2\n",
       "Name: count, Length: 64, dtype: int64"
      ]
     },
     "execution_count": 8,
     "metadata": {},
     "output_type": "execute_result"
    }
   ],
   "source": [
    "df['rate'].value_counts()"
   ]
  },
  {
   "cell_type": "code",
   "execution_count": 9,
   "id": "10b045bf-29a4-497c-815f-bf9ee64fc975",
   "metadata": {},
   "outputs": [],
   "source": [
    "df['rate']=df['rate'].str.replace('/5','')"
   ]
  },
  {
   "cell_type": "code",
   "execution_count": 10,
   "id": "35b47029-775d-45d3-a9c4-2547b2571ac1",
   "metadata": {},
   "outputs": [],
   "source": [
    "df['rate'] = df['rate'].replace('NEW', np.nan)"
   ]
  },
  {
   "cell_type": "code",
   "execution_count": 11,
   "id": "c9ae0505-b267-4122-be6f-b4d503e68f0c",
   "metadata": {},
   "outputs": [],
   "source": [
    "df['rate']=df['rate'].replace('-',np.nan)"
   ]
  },
  {
   "cell_type": "code",
   "execution_count": 12,
   "id": "2d8b860b-ea92-4266-afcf-c45482cfd98c",
   "metadata": {},
   "outputs": [],
   "source": [
    "df['rate'].fillna(df['rate'].median(),inplace=True)"
   ]
  },
  {
   "cell_type": "code",
   "execution_count": null,
   "id": "cb47bb4d-3760-48f2-93cf-4b52816bf9c0",
   "metadata": {},
   "outputs": [],
   "source": []
  },
  {
   "cell_type": "code",
   "execution_count": 13,
   "id": "a7a97086-4541-4ca8-a001-31b439385bb6",
   "metadata": {},
   "outputs": [],
   "source": [
    "df['rate']=pd.to_numeric(df['rate'])"
   ]
  },
  {
   "cell_type": "code",
   "execution_count": 14,
   "id": "7141ec64-a05e-4061-be70-794a8495f092",
   "metadata": {},
   "outputs": [
    {
     "name": "stdout",
     "output_type": "stream",
     "text": [
      "<class 'pandas.core.frame.DataFrame'>\n",
      "RangeIndex: 51717 entries, 0 to 51716\n",
      "Data columns (total 10 columns):\n",
      " #   Column                     Non-Null Count  Dtype  \n",
      "---  ------                     --------------  -----  \n",
      " 0   online_order               51717 non-null  object \n",
      " 1   book_table                 51717 non-null  object \n",
      " 2   rate                       51717 non-null  float64\n",
      " 3   votes                      51717 non-null  int64  \n",
      " 4   rest_type                  51490 non-null  object \n",
      " 5   dish_liked                 23639 non-null  object \n",
      " 6   cuisines                   51672 non-null  object \n",
      " 7   approx_costfor_two_people  51371 non-null  object \n",
      " 8   listed_intype              51717 non-null  object \n",
      " 9   listed_incity              51717 non-null  object \n",
      "dtypes: float64(1), int64(1), object(8)\n",
      "memory usage: 3.9+ MB\n"
     ]
    }
   ],
   "source": [
    "df.info()"
   ]
  },
  {
   "cell_type": "code",
   "execution_count": 15,
   "id": "05e8eaca-d583-4a38-b602-175e0d30edb7",
   "metadata": {},
   "outputs": [],
   "source": [
    "# Step 2: Cost Column (approx_costfor_two_people)\n",
    "df['approx_costfor_two_people']=df['approx_costfor_two_people'].str.replace(\",\" , \"\")"
   ]
  },
  {
   "cell_type": "code",
   "execution_count": 16,
   "id": "bd4afe0e-0ec7-431e-9b4c-9ebc53338496",
   "metadata": {},
   "outputs": [],
   "source": [
    "df['approx_costfor_two_people']=pd.to_numeric(df['approx_costfor_two_people'])"
   ]
  },
  {
   "cell_type": "code",
   "execution_count": 17,
   "id": "e26c6716-8f84-4a72-838f-2758f22e41a7",
   "metadata": {},
   "outputs": [],
   "source": [
    "df['approx_costfor_two_people'].fillna(df['approx_costfor_two_people'].median(),inplace=True)"
   ]
  },
  {
   "cell_type": "markdown",
   "id": "e8b4e866-e122-4ffb-952f-124adf2a91f0",
   "metadata": {},
   "source": [
    "# Step 3: Categorical Columns\n",
    "dish_liked → Replace NaN with \"Not Available\"\n",
    "\n",
    "\n",
    "cuisines → Replace NaN with \"Other\"\n",
    "\n",
    "\n",
    "rest_type → Replace NaN with \"Unknown\"\n",
    "\n",
    "\n"
   ]
  },
  {
   "cell_type": "code",
   "execution_count": 18,
   "id": "16528838-46ec-4289-9fed-5411dbeef77e",
   "metadata": {},
   "outputs": [],
   "source": [
    "df['dish_liked']=df['dish_liked'].replace(np.nan,\"Not Available\")"
   ]
  },
  {
   "cell_type": "code",
   "execution_count": 19,
   "id": "46ade940-dad2-4c5f-9b7a-a3890f8084a6",
   "metadata": {},
   "outputs": [],
   "source": [
    "df['cuisines']=df['cuisines'].replace(np.nan,\"Other\")"
   ]
  },
  {
   "cell_type": "code",
   "execution_count": 20,
   "id": "65a2cda9-4116-46f0-b5c2-bde88e135fac",
   "metadata": {},
   "outputs": [],
   "source": [
    "df['rest_type']=df['rest_type'].replace(np.nan,\"Unknown\")"
   ]
  },
  {
   "cell_type": "markdown",
   "id": "c99740da-0904-4ef9-9c1d-ac8aa6674320",
   "metadata": {},
   "source": [
    "# Step 4: Votes Column\n",
    "Fill missing values in votes with median\n"
   ]
  },
  {
   "cell_type": "code",
   "execution_count": 21,
   "id": "933e850a-90af-489d-b39c-0296b46dc946",
   "metadata": {},
   "outputs": [
    {
     "data": {
      "text/plain": [
       "0        775\n",
       "1        787\n",
       "2        918\n",
       "3         88\n",
       "4        166\n",
       "        ... \n",
       "51712     27\n",
       "51713      0\n",
       "51714      0\n",
       "51715    236\n",
       "51716     13\n",
       "Name: votes, Length: 51717, dtype: int64"
      ]
     },
     "execution_count": 21,
     "metadata": {},
     "output_type": "execute_result"
    }
   ],
   "source": [
    "df['votes'].fillna(df['votes'].median())"
   ]
  },
  {
   "cell_type": "markdown",
   "id": "5a880ecd-dd8e-412c-bb57-eae98689d566",
   "metadata": {},
   "source": [
    "# Step 5: Binary Encoding\n",
    "Convert the following binary fields:\n",
    "Column\n",
    "Mapping\n",
    "online_order\n",
    "Yes → 1, No → 0\n",
    "book_table\n",
    "Yes → 1, No → 0\n",
    "\n"
   ]
  },
  {
   "cell_type": "code",
   "execution_count": 22,
   "id": "8dfbfd61-fb88-4d77-a4fa-986a3a0fe4a3",
   "metadata": {},
   "outputs": [],
   "source": [
    "df['online_order']=df['online_order'].replace(['Yes','No'],[1,0])"
   ]
  },
  {
   "cell_type": "code",
   "execution_count": 23,
   "id": "9c35133c-7dd4-495d-8ab7-d19de7d1ccc7",
   "metadata": {},
   "outputs": [],
   "source": [
    "df['book_table']=df['book_table'].replace(['Yes','No'],[1,0])"
   ]
  },
  {
   "cell_type": "markdown",
   "id": "eeab678e-662b-4cae-b2a9-6746cce781e9",
   "metadata": {},
   "source": [
    "# Step 6: Data Type Conversion\n",
    "Ensure the following conversions:\n",
    "rate → float\n",
    "\n",
    "\n",
    "votes → integer\n",
    "\n",
    "\n",
    "approx_costfor_two_people → integer\n",
    "\n",
    "\n"
   ]
  },
  {
   "cell_type": "code",
   "execution_count": 24,
   "id": "015635d6-b832-4e9c-b0a0-310e16be7d1b",
   "metadata": {},
   "outputs": [],
   "source": [
    "df['approx_costfor_two_people']=df['approx_costfor_two_people'].astype(int)"
   ]
  },
  {
   "cell_type": "code",
   "execution_count": 25,
   "id": "58d83e2f-c51f-4c48-89d4-eb13dd0f0f87",
   "metadata": {},
   "outputs": [
    {
     "name": "stdout",
     "output_type": "stream",
     "text": [
      "<class 'pandas.core.frame.DataFrame'>\n",
      "RangeIndex: 51717 entries, 0 to 51716\n",
      "Data columns (total 10 columns):\n",
      " #   Column                     Non-Null Count  Dtype  \n",
      "---  ------                     --------------  -----  \n",
      " 0   online_order               51717 non-null  int64  \n",
      " 1   book_table                 51717 non-null  int64  \n",
      " 2   rate                       51717 non-null  float64\n",
      " 3   votes                      51717 non-null  int64  \n",
      " 4   rest_type                  51717 non-null  object \n",
      " 5   dish_liked                 51717 non-null  object \n",
      " 6   cuisines                   51717 non-null  object \n",
      " 7   approx_costfor_two_people  51717 non-null  int32  \n",
      " 8   listed_intype              51717 non-null  object \n",
      " 9   listed_incity              51717 non-null  object \n",
      "dtypes: float64(1), int32(1), int64(3), object(5)\n",
      "memory usage: 3.7+ MB\n"
     ]
    }
   ],
   "source": [
    "df.info()"
   ]
  },
  {
   "cell_type": "code",
   "execution_count": 26,
   "id": "01f21bb9-8601-4db4-99c2-ab5df5cf7dc0",
   "metadata": {},
   "outputs": [
    {
     "data": {
      "text/plain": [
       "(51717, 10)"
      ]
     },
     "execution_count": 26,
     "metadata": {},
     "output_type": "execute_result"
    }
   ],
   "source": [
    "# 1. What is the shape of the given dataset?\n",
    "df.shape"
   ]
  },
  {
   "cell_type": "code",
   "execution_count": 27,
   "id": "becff80a-f639-4116-a97f-b0a51c87475d",
   "metadata": {},
   "outputs": [
    {
     "data": {
      "text/html": [
       "<div>\n",
       "<style scoped>\n",
       "    .dataframe tbody tr th:only-of-type {\n",
       "        vertical-align: middle;\n",
       "    }\n",
       "\n",
       "    .dataframe tbody tr th {\n",
       "        vertical-align: top;\n",
       "    }\n",
       "\n",
       "    .dataframe thead th {\n",
       "        text-align: right;\n",
       "    }\n",
       "</style>\n",
       "<table border=\"1\" class=\"dataframe\">\n",
       "  <thead>\n",
       "    <tr style=\"text-align: right;\">\n",
       "      <th></th>\n",
       "      <th>online_order</th>\n",
       "      <th>book_table</th>\n",
       "      <th>rate</th>\n",
       "      <th>votes</th>\n",
       "      <th>rest_type</th>\n",
       "      <th>dish_liked</th>\n",
       "      <th>cuisines</th>\n",
       "      <th>approx_costfor_two_people</th>\n",
       "      <th>listed_intype</th>\n",
       "      <th>listed_incity</th>\n",
       "    </tr>\n",
       "  </thead>\n",
       "  <tbody>\n",
       "    <tr>\n",
       "      <th>5</th>\n",
       "      <td>1</td>\n",
       "      <td>0</td>\n",
       "      <td>3.8</td>\n",
       "      <td>286</td>\n",
       "      <td>Casual Dining</td>\n",
       "      <td>Onion Rings, Pasta, Kadhai Paneer, Salads, Sal...</td>\n",
       "      <td>North Indian</td>\n",
       "      <td>600</td>\n",
       "      <td>Buffet</td>\n",
       "      <td>Banashankari</td>\n",
       "    </tr>\n",
       "    <tr>\n",
       "      <th>50</th>\n",
       "      <td>0</td>\n",
       "      <td>0</td>\n",
       "      <td>3.7</td>\n",
       "      <td>21</td>\n",
       "      <td>Quick Bites</td>\n",
       "      <td>Not Available</td>\n",
       "      <td>North Indian</td>\n",
       "      <td>450</td>\n",
       "      <td>Delivery</td>\n",
       "      <td>Banashankari</td>\n",
       "    </tr>\n",
       "    <tr>\n",
       "      <th>72</th>\n",
       "      <td>0</td>\n",
       "      <td>0</td>\n",
       "      <td>3.7</td>\n",
       "      <td>0</td>\n",
       "      <td>Quick Bites</td>\n",
       "      <td>Not Available</td>\n",
       "      <td>North Indian</td>\n",
       "      <td>150</td>\n",
       "      <td>Delivery</td>\n",
       "      <td>Banashankari</td>\n",
       "    </tr>\n",
       "    <tr>\n",
       "      <th>87</th>\n",
       "      <td>0</td>\n",
       "      <td>0</td>\n",
       "      <td>3.5</td>\n",
       "      <td>31</td>\n",
       "      <td>Quick Bites</td>\n",
       "      <td>Not Available</td>\n",
       "      <td>North Indian</td>\n",
       "      <td>200</td>\n",
       "      <td>Delivery</td>\n",
       "      <td>Banashankari</td>\n",
       "    </tr>\n",
       "    <tr>\n",
       "      <th>94</th>\n",
       "      <td>0</td>\n",
       "      <td>0</td>\n",
       "      <td>2.6</td>\n",
       "      <td>283</td>\n",
       "      <td>Casual Dining</td>\n",
       "      <td>Biryani, Chicken Guntur, Thali, Buttermilk, Ma...</td>\n",
       "      <td>North Indian</td>\n",
       "      <td>600</td>\n",
       "      <td>Delivery</td>\n",
       "      <td>Banashankari</td>\n",
       "    </tr>\n",
       "    <tr>\n",
       "      <th>...</th>\n",
       "      <td>...</td>\n",
       "      <td>...</td>\n",
       "      <td>...</td>\n",
       "      <td>...</td>\n",
       "      <td>...</td>\n",
       "      <td>...</td>\n",
       "      <td>...</td>\n",
       "      <td>...</td>\n",
       "      <td>...</td>\n",
       "      <td>...</td>\n",
       "    </tr>\n",
       "    <tr>\n",
       "      <th>51622</th>\n",
       "      <td>1</td>\n",
       "      <td>0</td>\n",
       "      <td>3.5</td>\n",
       "      <td>17</td>\n",
       "      <td>Quick Bites</td>\n",
       "      <td>Not Available</td>\n",
       "      <td>North Indian</td>\n",
       "      <td>250</td>\n",
       "      <td>Dine-out</td>\n",
       "      <td>Whitefield</td>\n",
       "    </tr>\n",
       "    <tr>\n",
       "      <th>51626</th>\n",
       "      <td>0</td>\n",
       "      <td>0</td>\n",
       "      <td>3.7</td>\n",
       "      <td>0</td>\n",
       "      <td>Quick Bites</td>\n",
       "      <td>Not Available</td>\n",
       "      <td>North Indian</td>\n",
       "      <td>300</td>\n",
       "      <td>Dine-out</td>\n",
       "      <td>Whitefield</td>\n",
       "    </tr>\n",
       "    <tr>\n",
       "      <th>51627</th>\n",
       "      <td>0</td>\n",
       "      <td>0</td>\n",
       "      <td>3.7</td>\n",
       "      <td>0</td>\n",
       "      <td>Quick Bites</td>\n",
       "      <td>Not Available</td>\n",
       "      <td>North Indian</td>\n",
       "      <td>300</td>\n",
       "      <td>Dine-out</td>\n",
       "      <td>Whitefield</td>\n",
       "    </tr>\n",
       "    <tr>\n",
       "      <th>51631</th>\n",
       "      <td>0</td>\n",
       "      <td>0</td>\n",
       "      <td>3.4</td>\n",
       "      <td>5</td>\n",
       "      <td>Quick Bites</td>\n",
       "      <td>Not Available</td>\n",
       "      <td>North Indian</td>\n",
       "      <td>250</td>\n",
       "      <td>Dine-out</td>\n",
       "      <td>Whitefield</td>\n",
       "    </tr>\n",
       "    <tr>\n",
       "      <th>51644</th>\n",
       "      <td>0</td>\n",
       "      <td>0</td>\n",
       "      <td>3.7</td>\n",
       "      <td>0</td>\n",
       "      <td>Quick Bites</td>\n",
       "      <td>Not Available</td>\n",
       "      <td>North Indian</td>\n",
       "      <td>400</td>\n",
       "      <td>Dine-out</td>\n",
       "      <td>Whitefield</td>\n",
       "    </tr>\n",
       "  </tbody>\n",
       "</table>\n",
       "<p>2913 rows × 10 columns</p>\n",
       "</div>"
      ],
      "text/plain": [
       "       online_order  book_table  rate  votes      rest_type  \\\n",
       "5                 1           0   3.8    286  Casual Dining   \n",
       "50                0           0   3.7     21    Quick Bites   \n",
       "72                0           0   3.7      0    Quick Bites   \n",
       "87                0           0   3.5     31    Quick Bites   \n",
       "94                0           0   2.6    283  Casual Dining   \n",
       "...             ...         ...   ...    ...            ...   \n",
       "51622             1           0   3.5     17    Quick Bites   \n",
       "51626             0           0   3.7      0    Quick Bites   \n",
       "51627             0           0   3.7      0    Quick Bites   \n",
       "51631             0           0   3.4      5    Quick Bites   \n",
       "51644             0           0   3.7      0    Quick Bites   \n",
       "\n",
       "                                              dish_liked      cuisines  \\\n",
       "5      Onion Rings, Pasta, Kadhai Paneer, Salads, Sal...  North Indian   \n",
       "50                                         Not Available  North Indian   \n",
       "72                                         Not Available  North Indian   \n",
       "87                                         Not Available  North Indian   \n",
       "94     Biryani, Chicken Guntur, Thali, Buttermilk, Ma...  North Indian   \n",
       "...                                                  ...           ...   \n",
       "51622                                      Not Available  North Indian   \n",
       "51626                                      Not Available  North Indian   \n",
       "51627                                      Not Available  North Indian   \n",
       "51631                                      Not Available  North Indian   \n",
       "51644                                      Not Available  North Indian   \n",
       "\n",
       "       approx_costfor_two_people listed_intype listed_incity  \n",
       "5                            600        Buffet  Banashankari  \n",
       "50                           450      Delivery  Banashankari  \n",
       "72                           150      Delivery  Banashankari  \n",
       "87                           200      Delivery  Banashankari  \n",
       "94                           600      Delivery  Banashankari  \n",
       "...                          ...           ...           ...  \n",
       "51622                        250      Dine-out    Whitefield  \n",
       "51626                        300      Dine-out    Whitefield  \n",
       "51627                        300      Dine-out    Whitefield  \n",
       "51631                        250      Dine-out    Whitefield  \n",
       "51644                        400      Dine-out    Whitefield  \n",
       "\n",
       "[2913 rows x 10 columns]"
      ]
     },
     "execution_count": 27,
     "metadata": {},
     "output_type": "execute_result"
    }
   ],
   "source": [
    "# 2. How many restaurants serve North Indian cuisine?\n",
    "df[df['cuisines']=='North Indian']"
   ]
  },
  {
   "cell_type": "code",
   "execution_count": 28,
   "id": "28cc52f7-132f-4bdc-a611-3e52c71a9c16",
   "metadata": {},
   "outputs": [],
   "source": [
    "n=df[df['cuisines'].str.contains('North Indian')]"
   ]
  },
  {
   "cell_type": "code",
   "execution_count": 29,
   "id": "b1d1b018-5d3a-4308-8b5b-0a9b67bdf6f1",
   "metadata": {},
   "outputs": [
    {
     "data": {
      "text/plain": [
       "(21085, 10)"
      ]
     },
     "execution_count": 29,
     "metadata": {},
     "output_type": "execute_result"
    }
   ],
   "source": [
    "n.shape"
   ]
  },
  {
   "cell_type": "code",
   "execution_count": 30,
   "id": "3d4bad22-6ac5-4324-a68e-c94a0b231ee6",
   "metadata": {},
   "outputs": [
    {
     "data": {
      "text/plain": [
       "cuisines\n",
       "North Indian             2913\n",
       "North Indian, Chinese    2385\n",
       "South Indian             1828\n",
       "Biryani                   918\n",
       "Bakery, Desserts          911\n",
       "Name: count, dtype: int64"
      ]
     },
     "execution_count": 30,
     "metadata": {},
     "output_type": "execute_result"
    }
   ],
   "source": [
    "# What cuisine is most commonly offered by restaurants in Bangalore?\n",
    "df['cuisines'].value_counts().nlargest()"
   ]
  },
  {
   "cell_type": "code",
   "execution_count": 31,
   "id": "25e26680-afda-45bf-841e-573668ab73e2",
   "metadata": {},
   "outputs": [],
   "source": [
    "df1=pd.read_csv(r\"C:\\Users\\dappi\\Downloads\\Geographical Coordinates.csv\")"
   ]
  },
  {
   "cell_type": "code",
   "execution_count": 32,
   "id": "fd5711fe-6707-4be7-a888-66be3c66eadc",
   "metadata": {
    "scrolled": true
   },
   "outputs": [
    {
     "data": {
      "text/html": [
       "<div>\n",
       "<style scoped>\n",
       "    .dataframe tbody tr th:only-of-type {\n",
       "        vertical-align: middle;\n",
       "    }\n",
       "\n",
       "    .dataframe tbody tr th {\n",
       "        vertical-align: top;\n",
       "    }\n",
       "\n",
       "    .dataframe thead th {\n",
       "        text-align: right;\n",
       "    }\n",
       "</style>\n",
       "<table border=\"1\" class=\"dataframe\">\n",
       "  <thead>\n",
       "    <tr style=\"text-align: right;\">\n",
       "      <th></th>\n",
       "      <th>listed_incity</th>\n",
       "      <th>Latitude</th>\n",
       "      <th>Longitude</th>\n",
       "    </tr>\n",
       "  </thead>\n",
       "  <tbody>\n",
       "    <tr>\n",
       "      <th>0</th>\n",
       "      <td>Banashankari</td>\n",
       "      <td>12.939333</td>\n",
       "      <td>77.553982</td>\n",
       "    </tr>\n",
       "    <tr>\n",
       "      <th>1</th>\n",
       "      <td>Bannerghatta Road</td>\n",
       "      <td>12.952660</td>\n",
       "      <td>77.605048</td>\n",
       "    </tr>\n",
       "    <tr>\n",
       "      <th>2</th>\n",
       "      <td>Basavanagudi</td>\n",
       "      <td>12.941726</td>\n",
       "      <td>77.575502</td>\n",
       "    </tr>\n",
       "    <tr>\n",
       "      <th>3</th>\n",
       "      <td>Bellandur</td>\n",
       "      <td>12.925352</td>\n",
       "      <td>77.675941</td>\n",
       "    </tr>\n",
       "    <tr>\n",
       "      <th>4</th>\n",
       "      <td>Brigade Road</td>\n",
       "      <td>12.967358</td>\n",
       "      <td>77.606435</td>\n",
       "    </tr>\n",
       "    <tr>\n",
       "      <th>5</th>\n",
       "      <td>Brookefield</td>\n",
       "      <td>12.963814</td>\n",
       "      <td>77.722437</td>\n",
       "    </tr>\n",
       "    <tr>\n",
       "      <th>6</th>\n",
       "      <td>BTM</td>\n",
       "      <td>12.916360</td>\n",
       "      <td>77.604733</td>\n",
       "    </tr>\n",
       "    <tr>\n",
       "      <th>7</th>\n",
       "      <td>Church Street</td>\n",
       "      <td>12.974914</td>\n",
       "      <td>77.605247</td>\n",
       "    </tr>\n",
       "    <tr>\n",
       "      <th>8</th>\n",
       "      <td>Electronic City</td>\n",
       "      <td>12.848760</td>\n",
       "      <td>77.648253</td>\n",
       "    </tr>\n",
       "    <tr>\n",
       "      <th>9</th>\n",
       "      <td>Frazer Town</td>\n",
       "      <td>12.998683</td>\n",
       "      <td>77.615525</td>\n",
       "    </tr>\n",
       "    <tr>\n",
       "      <th>10</th>\n",
       "      <td>HSR</td>\n",
       "      <td>12.900563</td>\n",
       "      <td>77.649475</td>\n",
       "    </tr>\n",
       "    <tr>\n",
       "      <th>11</th>\n",
       "      <td>Indiranagar</td>\n",
       "      <td>12.996298</td>\n",
       "      <td>77.545278</td>\n",
       "    </tr>\n",
       "    <tr>\n",
       "      <th>12</th>\n",
       "      <td>Jayanagar</td>\n",
       "      <td>12.939904</td>\n",
       "      <td>77.582638</td>\n",
       "    </tr>\n",
       "    <tr>\n",
       "      <th>13</th>\n",
       "      <td>JP Nagar</td>\n",
       "      <td>12.909694</td>\n",
       "      <td>77.586607</td>\n",
       "    </tr>\n",
       "    <tr>\n",
       "      <th>14</th>\n",
       "      <td>Kalyan Nagar</td>\n",
       "      <td>13.022142</td>\n",
       "      <td>77.640337</td>\n",
       "    </tr>\n",
       "    <tr>\n",
       "      <th>15</th>\n",
       "      <td>Kammanahalli</td>\n",
       "      <td>13.014854</td>\n",
       "      <td>77.638203</td>\n",
       "    </tr>\n",
       "    <tr>\n",
       "      <th>16</th>\n",
       "      <td>Koramangala 4th Block</td>\n",
       "      <td>12.932778</td>\n",
       "      <td>77.629405</td>\n",
       "    </tr>\n",
       "    <tr>\n",
       "      <th>17</th>\n",
       "      <td>Koramangala 5th Block</td>\n",
       "      <td>12.934843</td>\n",
       "      <td>77.618977</td>\n",
       "    </tr>\n",
       "    <tr>\n",
       "      <th>18</th>\n",
       "      <td>Koramangala 6th Block</td>\n",
       "      <td>12.939025</td>\n",
       "      <td>77.623848</td>\n",
       "    </tr>\n",
       "    <tr>\n",
       "      <th>19</th>\n",
       "      <td>Koramangala 7th Block</td>\n",
       "      <td>12.936485</td>\n",
       "      <td>77.613478</td>\n",
       "    </tr>\n",
       "    <tr>\n",
       "      <th>20</th>\n",
       "      <td>Lavelle Road</td>\n",
       "      <td>12.968340</td>\n",
       "      <td>77.596507</td>\n",
       "    </tr>\n",
       "    <tr>\n",
       "      <th>21</th>\n",
       "      <td>Malleshwaram</td>\n",
       "      <td>13.002735</td>\n",
       "      <td>77.570325</td>\n",
       "    </tr>\n",
       "    <tr>\n",
       "      <th>22</th>\n",
       "      <td>Marathahalli</td>\n",
       "      <td>12.955257</td>\n",
       "      <td>77.698416</td>\n",
       "    </tr>\n",
       "    <tr>\n",
       "      <th>23</th>\n",
       "      <td>MG Road</td>\n",
       "      <td>12.975526</td>\n",
       "      <td>77.606790</td>\n",
       "    </tr>\n",
       "    <tr>\n",
       "      <th>24</th>\n",
       "      <td>New BEL Road</td>\n",
       "      <td>13.039186</td>\n",
       "      <td>77.564284</td>\n",
       "    </tr>\n",
       "    <tr>\n",
       "      <th>25</th>\n",
       "      <td>Old Airport Road</td>\n",
       "      <td>12.960632</td>\n",
       "      <td>77.642500</td>\n",
       "    </tr>\n",
       "  </tbody>\n",
       "</table>\n",
       "</div>"
      ],
      "text/plain": [
       "            listed_incity   Latitude  Longitude\n",
       "0            Banashankari  12.939333  77.553982\n",
       "1       Bannerghatta Road  12.952660  77.605048\n",
       "2            Basavanagudi  12.941726  77.575502\n",
       "3               Bellandur  12.925352  77.675941\n",
       "4            Brigade Road  12.967358  77.606435\n",
       "5             Brookefield  12.963814  77.722437\n",
       "6                     BTM  12.916360  77.604733\n",
       "7           Church Street  12.974914  77.605247\n",
       "8         Electronic City  12.848760  77.648253\n",
       "9             Frazer Town  12.998683  77.615525\n",
       "10                    HSR  12.900563  77.649475\n",
       "11            Indiranagar  12.996298  77.545278\n",
       "12              Jayanagar  12.939904  77.582638\n",
       "13               JP Nagar  12.909694  77.586607\n",
       "14           Kalyan Nagar  13.022142  77.640337\n",
       "15           Kammanahalli  13.014854  77.638203\n",
       "16  Koramangala 4th Block  12.932778  77.629405\n",
       "17  Koramangala 5th Block  12.934843  77.618977\n",
       "18  Koramangala 6th Block  12.939025  77.623848\n",
       "19  Koramangala 7th Block  12.936485  77.613478\n",
       "20           Lavelle Road  12.968340  77.596507\n",
       "21           Malleshwaram  13.002735  77.570325\n",
       "22           Marathahalli  12.955257  77.698416\n",
       "23                MG Road  12.975526  77.606790\n",
       "24           New BEL Road  13.039186  77.564284\n",
       "25       Old Airport Road  12.960632  77.642500"
      ]
     },
     "execution_count": 32,
     "metadata": {},
     "output_type": "execute_result"
    }
   ],
   "source": [
    "df1"
   ]
  },
  {
   "cell_type": "code",
   "execution_count": 33,
   "id": "8fdbc296-10f0-4a06-8a19-f2c8e03cf61a",
   "metadata": {},
   "outputs": [
    {
     "data": {
      "text/plain": [
       "listed_incity\n",
       "Church Street    770.361248\n",
       "Name: approx_costfor_two_people, dtype: float64"
      ]
     },
     "execution_count": 33,
     "metadata": {},
     "output_type": "execute_result"
    }
   ],
   "source": [
    "# Which locality in Bangalore has the highest average cost for dining (for two people)?\n",
    "a=df.groupby('listed_incity')['approx_costfor_two_people'].mean()\n",
    "a.nlargest(1)"
   ]
  },
  {
   "cell_type": "code",
   "execution_count": 34,
   "id": "749fde22-2128-4a81-9ad7-67eb01ddd047",
   "metadata": {},
   "outputs": [
    {
     "data": {
      "text/plain": [
       "rest_type\n",
       "Bakery                  4.800000\n",
       "Pub, Cafe               4.657500\n",
       "Cafe, Dessert Parlor    4.578261\n",
       "Dessert Parlor          4.518367\n",
       "Microbrewery            4.508333\n",
       "Name: rate, dtype: float64"
      ]
     },
     "execution_count": 34,
     "metadata": {},
     "output_type": "execute_result"
    }
   ],
   "source": [
    "# 5. Which restaurant type has the top rating with over 1000 votes?\n",
    "over_1000_votes=df[df['votes']>1000]\n",
    "over_1000_votes.groupby('rest_type')['rate'].mean().nlargest()"
   ]
  },
  {
   "cell_type": "code",
   "execution_count": 35,
   "id": "a4d84860-2ef7-4831-a298-3f9b89ee8836",
   "metadata": {},
   "outputs": [
    {
     "data": {
      "text/plain": [
       "listed_incity\n",
       "BTM                       70\n",
       "Banashankari              80\n",
       "Bannerghatta Road         50\n",
       "Basavanagudi             100\n",
       "Bellandur                100\n",
       "Brigade Road              40\n",
       "Brookefield              100\n",
       "Church Street             40\n",
       "Electronic City           60\n",
       "Frazer Town               40\n",
       "HSR                      100\n",
       "Indiranagar               40\n",
       "JP Nagar                  70\n",
       "Jayanagar                 80\n",
       "Kalyan Nagar              80\n",
       "Kammanahalli              80\n",
       "Koramangala 4th Block     40\n",
       "Koramangala 5th Block     40\n",
       "Koramangala 6th Block     40\n",
       "Koramangala 7th Block    100\n",
       "Lavelle Road              50\n",
       "MG Road                   50\n",
       "Malleshwaram             100\n",
       "Marathahalli             100\n",
       "New BEL Road             100\n",
       "Old Airport Road         100\n",
       "Rajajinagar               80\n",
       "Residency Road            50\n",
       "Sarjapur Road            100\n",
       "Whitefield               100\n",
       "Name: approx_costfor_two_people, dtype: int32"
      ]
     },
     "execution_count": 35,
     "metadata": {},
     "output_type": "execute_result"
    }
   ],
   "source": [
    "#  How much does it cost at minimum to eat out in Bangalore?\n",
    "df.groupby('listed_incity')['approx_costfor_two_people'].min()"
   ]
  },
  {
   "cell_type": "code",
   "execution_count": 36,
   "id": "504044cb-84a6-48fd-b710-276fe04b7ec6",
   "metadata": {},
   "outputs": [
    {
     "data": {
      "text/plain": [
       "63.26767091541136"
      ]
     },
     "execution_count": 36,
     "metadata": {},
     "output_type": "execute_result"
    }
   ],
   "source": [
    "# 7. What percentage of total online orders is received by restaurants in Banashankari?\n",
    "ban = df[(df['listed_incity'] == 'Banashankari')]\n",
    "percentage= (len(ban[ban['online_order']==1])/len(ban))*100\n",
    "percentage"
   ]
  },
  {
   "cell_type": "code",
   "execution_count": 37,
   "id": "9ecd1d5e-5c77-435f-bbbf-7fa26df092ea",
   "metadata": {},
   "outputs": [
    {
     "data": {
      "text/plain": [
       "1.7934568387859677"
      ]
     },
     "execution_count": 37,
     "metadata": {},
     "output_type": "execute_result"
    }
   ],
   "source": [
    "ban = df[(df['online_order'] == 1)]\n",
    "percentage= (len(ban[ban['listed_incity']=='Banashankari'])/len(ban))*100\n",
    "percentage"
   ]
  },
  {
   "cell_type": "code",
   "execution_count": 38,
   "id": "705b370b-b22c-4aec-a340-f4ff289e40c3",
   "metadata": {},
   "outputs": [
    {
     "data": {
      "text/plain": [
       "listed_incity\n",
       "Brookefield    8\n",
       "Name: count, dtype: int64"
      ]
     },
     "execution_count": 38,
     "metadata": {},
     "output_type": "execute_result"
    }
   ],
   "source": [
    "# 8. Which locality has the most restaurants with over 500 votes and a rating below 3.0?\n",
    "most_rest = df[(df['votes']>500) & (df['rate']<3)]\n",
    "most_rest['listed_incity'].value_counts().nlargest(1)"
   ]
  },
  {
   "cell_type": "code",
   "execution_count": 39,
   "id": "2dae04ee-4b61-4068-b372-ea4c32147e26",
   "metadata": {},
   "outputs": [
    {
     "data": {
      "text/plain": [
       "listed_incity\n",
       "BTM              62\n",
       "Brigade Road     61\n",
       "Church Street    61\n",
       "Name: rest_type, dtype: int64"
      ]
     },
     "execution_count": 39,
     "metadata": {},
     "output_type": "execute_result"
    }
   ],
   "source": [
    "# 9. Which locality in Bangalore should Zomato target for expansion based on restaurant type diversity?\n",
    "df.groupby('listed_incity')['rest_type'].nunique().nlargest(3)"
   ]
  },
  {
   "cell_type": "code",
   "execution_count": 40,
   "id": "d607698f-d6e5-4ba7-95d6-44ae4203dfac",
   "metadata": {},
   "outputs": [
    {
     "data": {
      "text/plain": [
       "1295.3514739229024"
      ]
     },
     "execution_count": 40,
     "metadata": {},
     "output_type": "execute_result"
    }
   ],
   "source": [
    "# 10. What's the average cost difference between buffet and delivery restaurants?\n",
    "buffet=df[df['listed_intype']=='Buffet']\n",
    "delivery = df[df['listed_intype']=='delivery']\n",
    "buf_avg = buffet['approx_costfor_two_people'].mean()\n",
    "del_avg = delivery['approx_costfor_two_people'].mean()\n",
    "buf_avg\n"
   ]
  },
  {
   "cell_type": "code",
   "execution_count": null,
   "id": "be59d7dc-eea7-46ee-a2c9-a072ab3fc239",
   "metadata": {},
   "outputs": [],
   "source": []
  },
  {
   "cell_type": "code",
   "execution_count": 41,
   "id": "cff780d0-7544-4726-88bf-738be8f53078",
   "metadata": {},
   "outputs": [
    {
     "data": {
      "text/plain": [
       "16832"
      ]
     },
     "execution_count": 41,
     "metadata": {},
     "output_type": "execute_result"
    }
   ],
   "source": [
    "# 11 . What is the maximum number of votes received by any restaurant with online ordering?\n",
    "online_order = df[df['online_order']==1]\n",
    "online_order['votes'].max()"
   ]
  },
  {
   "cell_type": "code",
   "execution_count": 42,
   "id": "3e6d1035-e7ca-49d6-9a5b-0697b950278b",
   "metadata": {},
   "outputs": [
    {
     "data": {
      "text/plain": [
       "3.5919080217658412"
      ]
     },
     "execution_count": 42,
     "metadata": {},
     "output_type": "execute_result"
    }
   ],
   "source": [
    "# 12. What is the average rating of restaurants that serve both North Indian and Chinese cuisines?\n",
    "serve_both=df[df['cuisines'].str.contains('North Indian') & df['cuisines'].str.contains('Chinese')]\n",
    "serve_both['rate'].mean()"
   ]
  },
  {
   "cell_type": "code",
   "execution_count": 43,
   "id": "d702e087-adb2-4675-8986-6aa842e260ff",
   "metadata": {},
   "outputs": [
    {
     "data": {
      "text/plain": [
       "listed_incity\n",
       "Koramangala 7th Block    1006195610\n",
       "Name: potential_revenue, dtype: int64"
      ]
     },
     "execution_count": 43,
     "metadata": {},
     "output_type": "execute_result"
    }
   ],
   "source": [
    "# 13. What is the most profitable area for Zomato based on potential revenue estimation?\n",
    "df['potential_revenue'] = df['approx_costfor_two_people'] * df['votes']\n",
    "area_revenue = df.groupby('listed_incity')['potential_revenue'].sum()\n",
    "most_profitable_area = area_revenue.sort_values(ascending=False).head(1)\n",
    "most_profitable_area"
   ]
  },
  {
   "cell_type": "code",
   "execution_count": 44,
   "id": "11a6960f-392f-4515-b1f2-fec4e82d47b4",
   "metadata": {},
   "outputs": [
    {
     "data": {
      "text/plain": [
       "rest_type\n",
       "Quick Bites      5429\n",
       "Casual Dining    2128\n",
       "Delivery          641\n",
       "Name: count, dtype: int64"
      ]
     },
     "execution_count": 44,
     "metadata": {},
     "output_type": "execute_result"
    }
   ],
   "source": [
    "# 14. If Zomato wants to reduce customer complaints, which restaurant type should they focus on?\n",
    "low_rated = df[df['rate'] < 3.5]\n",
    "complaint_risk = low_rated['rest_type'].value_counts().nlargest(3)\n",
    "complaint_risk"
   ]
  },
  {
   "cell_type": "code",
   "execution_count": 45,
   "id": "327f9114-3337-4348-929c-30e27931500e",
   "metadata": {},
   "outputs": [
    {
     "data": {
      "text/plain": [
       "listed_incity\n",
       "Koramangala 7th Block    97\n",
       "MG Road                  97\n",
       "Church Street            95\n",
       "Koramangala 4th Block    95\n",
       "Brigade Road             94\n",
       "Name: count, dtype: int64"
      ]
     },
     "execution_count": 45,
     "metadata": {},
     "output_type": "execute_result"
    }
   ],
   "source": [
    "# 15. In which area should Zomato invest by considering high rating (rate > 4.2), high number of votes (> 500) and including online orders?\n",
    "invest=df[(df['rate']>4.2) & (df['votes']>500) & (df['online_order']==1)]\n",
    "invest['listed_incity'].value_counts().nlargest(5)"
   ]
  },
  {
   "cell_type": "code",
   "execution_count": null,
   "id": "4125668a-a062-4283-b48e-ee4725a4ecbb",
   "metadata": {},
   "outputs": [],
   "source": []
  },
  {
   "cell_type": "code",
   "execution_count": 46,
   "id": "c06235b3-4752-4c78-88ee-8868b26adc17",
   "metadata": {},
   "outputs": [],
   "source": [
    "merged_df=pd.merge(df, df1, on='listed_incity', how='left')"
   ]
  },
  {
   "cell_type": "code",
   "execution_count": 47,
   "id": "04b55859-9b6e-4e5c-b463-3ee818c38315",
   "metadata": {},
   "outputs": [
    {
     "data": {
      "text/html": [
       "<div>\n",
       "<style scoped>\n",
       "    .dataframe tbody tr th:only-of-type {\n",
       "        vertical-align: middle;\n",
       "    }\n",
       "\n",
       "    .dataframe tbody tr th {\n",
       "        vertical-align: top;\n",
       "    }\n",
       "\n",
       "    .dataframe thead th {\n",
       "        text-align: right;\n",
       "    }\n",
       "</style>\n",
       "<table border=\"1\" class=\"dataframe\">\n",
       "  <thead>\n",
       "    <tr style=\"text-align: right;\">\n",
       "      <th></th>\n",
       "      <th>online_order</th>\n",
       "      <th>book_table</th>\n",
       "      <th>rate</th>\n",
       "      <th>votes</th>\n",
       "      <th>rest_type</th>\n",
       "      <th>dish_liked</th>\n",
       "      <th>cuisines</th>\n",
       "      <th>approx_costfor_two_people</th>\n",
       "      <th>listed_intype</th>\n",
       "      <th>listed_incity</th>\n",
       "      <th>potential_revenue</th>\n",
       "      <th>Latitude</th>\n",
       "      <th>Longitude</th>\n",
       "    </tr>\n",
       "  </thead>\n",
       "  <tbody>\n",
       "    <tr>\n",
       "      <th>0</th>\n",
       "      <td>1</td>\n",
       "      <td>1</td>\n",
       "      <td>4.1</td>\n",
       "      <td>775</td>\n",
       "      <td>Casual Dining</td>\n",
       "      <td>Pasta, Lunch Buffet, Masala Papad, Paneer Laja...</td>\n",
       "      <td>North Indian, Mughlai, Chinese</td>\n",
       "      <td>800</td>\n",
       "      <td>Buffet</td>\n",
       "      <td>Banashankari</td>\n",
       "      <td>620000</td>\n",
       "      <td>12.939333</td>\n",
       "      <td>77.553982</td>\n",
       "    </tr>\n",
       "    <tr>\n",
       "      <th>1</th>\n",
       "      <td>1</td>\n",
       "      <td>0</td>\n",
       "      <td>4.1</td>\n",
       "      <td>787</td>\n",
       "      <td>Casual Dining</td>\n",
       "      <td>Momos, Lunch Buffet, Chocolate Nirvana, Thai G...</td>\n",
       "      <td>Chinese, North Indian, Thai</td>\n",
       "      <td>800</td>\n",
       "      <td>Buffet</td>\n",
       "      <td>Banashankari</td>\n",
       "      <td>629600</td>\n",
       "      <td>12.939333</td>\n",
       "      <td>77.553982</td>\n",
       "    </tr>\n",
       "    <tr>\n",
       "      <th>2</th>\n",
       "      <td>1</td>\n",
       "      <td>0</td>\n",
       "      <td>3.8</td>\n",
       "      <td>918</td>\n",
       "      <td>Cafe, Casual Dining</td>\n",
       "      <td>Churros, Cannelloni, Minestrone Soup, Hot Choc...</td>\n",
       "      <td>Cafe, Mexican, Italian</td>\n",
       "      <td>800</td>\n",
       "      <td>Buffet</td>\n",
       "      <td>Banashankari</td>\n",
       "      <td>734400</td>\n",
       "      <td>12.939333</td>\n",
       "      <td>77.553982</td>\n",
       "    </tr>\n",
       "    <tr>\n",
       "      <th>3</th>\n",
       "      <td>0</td>\n",
       "      <td>0</td>\n",
       "      <td>3.7</td>\n",
       "      <td>88</td>\n",
       "      <td>Quick Bites</td>\n",
       "      <td>Masala Dosa</td>\n",
       "      <td>South Indian, North Indian</td>\n",
       "      <td>300</td>\n",
       "      <td>Buffet</td>\n",
       "      <td>Banashankari</td>\n",
       "      <td>26400</td>\n",
       "      <td>12.939333</td>\n",
       "      <td>77.553982</td>\n",
       "    </tr>\n",
       "    <tr>\n",
       "      <th>4</th>\n",
       "      <td>0</td>\n",
       "      <td>0</td>\n",
       "      <td>3.8</td>\n",
       "      <td>166</td>\n",
       "      <td>Casual Dining</td>\n",
       "      <td>Panipuri, Gol Gappe</td>\n",
       "      <td>North Indian, Rajasthani</td>\n",
       "      <td>600</td>\n",
       "      <td>Buffet</td>\n",
       "      <td>Banashankari</td>\n",
       "      <td>99600</td>\n",
       "      <td>12.939333</td>\n",
       "      <td>77.553982</td>\n",
       "    </tr>\n",
       "    <tr>\n",
       "      <th>...</th>\n",
       "      <td>...</td>\n",
       "      <td>...</td>\n",
       "      <td>...</td>\n",
       "      <td>...</td>\n",
       "      <td>...</td>\n",
       "      <td>...</td>\n",
       "      <td>...</td>\n",
       "      <td>...</td>\n",
       "      <td>...</td>\n",
       "      <td>...</td>\n",
       "      <td>...</td>\n",
       "      <td>...</td>\n",
       "      <td>...</td>\n",
       "    </tr>\n",
       "    <tr>\n",
       "      <th>51712</th>\n",
       "      <td>0</td>\n",
       "      <td>0</td>\n",
       "      <td>3.6</td>\n",
       "      <td>27</td>\n",
       "      <td>Bar</td>\n",
       "      <td>Not Available</td>\n",
       "      <td>Continental</td>\n",
       "      <td>1500</td>\n",
       "      <td>Pubs and bars</td>\n",
       "      <td>Whitefield</td>\n",
       "      <td>40500</td>\n",
       "      <td>NaN</td>\n",
       "      <td>NaN</td>\n",
       "    </tr>\n",
       "    <tr>\n",
       "      <th>51713</th>\n",
       "      <td>0</td>\n",
       "      <td>0</td>\n",
       "      <td>3.7</td>\n",
       "      <td>0</td>\n",
       "      <td>Bar</td>\n",
       "      <td>Not Available</td>\n",
       "      <td>Finger Food</td>\n",
       "      <td>600</td>\n",
       "      <td>Pubs and bars</td>\n",
       "      <td>Whitefield</td>\n",
       "      <td>0</td>\n",
       "      <td>NaN</td>\n",
       "      <td>NaN</td>\n",
       "    </tr>\n",
       "    <tr>\n",
       "      <th>51714</th>\n",
       "      <td>0</td>\n",
       "      <td>0</td>\n",
       "      <td>3.7</td>\n",
       "      <td>0</td>\n",
       "      <td>Bar</td>\n",
       "      <td>Not Available</td>\n",
       "      <td>Finger Food</td>\n",
       "      <td>2000</td>\n",
       "      <td>Pubs and bars</td>\n",
       "      <td>Whitefield</td>\n",
       "      <td>0</td>\n",
       "      <td>NaN</td>\n",
       "      <td>NaN</td>\n",
       "    </tr>\n",
       "    <tr>\n",
       "      <th>51715</th>\n",
       "      <td>0</td>\n",
       "      <td>1</td>\n",
       "      <td>4.3</td>\n",
       "      <td>236</td>\n",
       "      <td>Bar</td>\n",
       "      <td>Cocktails, Pizza, Buttermilk</td>\n",
       "      <td>Finger Food</td>\n",
       "      <td>2500</td>\n",
       "      <td>Pubs and bars</td>\n",
       "      <td>Whitefield</td>\n",
       "      <td>590000</td>\n",
       "      <td>NaN</td>\n",
       "      <td>NaN</td>\n",
       "    </tr>\n",
       "    <tr>\n",
       "      <th>51716</th>\n",
       "      <td>0</td>\n",
       "      <td>0</td>\n",
       "      <td>3.4</td>\n",
       "      <td>13</td>\n",
       "      <td>Bar, Casual Dining</td>\n",
       "      <td>Not Available</td>\n",
       "      <td>Finger Food, North Indian, Continental</td>\n",
       "      <td>1500</td>\n",
       "      <td>Pubs and bars</td>\n",
       "      <td>Whitefield</td>\n",
       "      <td>19500</td>\n",
       "      <td>NaN</td>\n",
       "      <td>NaN</td>\n",
       "    </tr>\n",
       "  </tbody>\n",
       "</table>\n",
       "<p>51717 rows × 13 columns</p>\n",
       "</div>"
      ],
      "text/plain": [
       "       online_order  book_table  rate  votes            rest_type  \\\n",
       "0                 1           1   4.1    775        Casual Dining   \n",
       "1                 1           0   4.1    787        Casual Dining   \n",
       "2                 1           0   3.8    918  Cafe, Casual Dining   \n",
       "3                 0           0   3.7     88          Quick Bites   \n",
       "4                 0           0   3.8    166        Casual Dining   \n",
       "...             ...         ...   ...    ...                  ...   \n",
       "51712             0           0   3.6     27                  Bar   \n",
       "51713             0           0   3.7      0                  Bar   \n",
       "51714             0           0   3.7      0                  Bar   \n",
       "51715             0           1   4.3    236                  Bar   \n",
       "51716             0           0   3.4     13   Bar, Casual Dining   \n",
       "\n",
       "                                              dish_liked  \\\n",
       "0      Pasta, Lunch Buffet, Masala Papad, Paneer Laja...   \n",
       "1      Momos, Lunch Buffet, Chocolate Nirvana, Thai G...   \n",
       "2      Churros, Cannelloni, Minestrone Soup, Hot Choc...   \n",
       "3                                            Masala Dosa   \n",
       "4                                    Panipuri, Gol Gappe   \n",
       "...                                                  ...   \n",
       "51712                                      Not Available   \n",
       "51713                                      Not Available   \n",
       "51714                                      Not Available   \n",
       "51715                       Cocktails, Pizza, Buttermilk   \n",
       "51716                                      Not Available   \n",
       "\n",
       "                                     cuisines  approx_costfor_two_people  \\\n",
       "0              North Indian, Mughlai, Chinese                        800   \n",
       "1                 Chinese, North Indian, Thai                        800   \n",
       "2                      Cafe, Mexican, Italian                        800   \n",
       "3                  South Indian, North Indian                        300   \n",
       "4                    North Indian, Rajasthani                        600   \n",
       "...                                       ...                        ...   \n",
       "51712                             Continental                       1500   \n",
       "51713                             Finger Food                        600   \n",
       "51714                             Finger Food                       2000   \n",
       "51715                             Finger Food                       2500   \n",
       "51716  Finger Food, North Indian, Continental                       1500   \n",
       "\n",
       "       listed_intype listed_incity  potential_revenue   Latitude  Longitude  \n",
       "0             Buffet  Banashankari             620000  12.939333  77.553982  \n",
       "1             Buffet  Banashankari             629600  12.939333  77.553982  \n",
       "2             Buffet  Banashankari             734400  12.939333  77.553982  \n",
       "3             Buffet  Banashankari              26400  12.939333  77.553982  \n",
       "4             Buffet  Banashankari              99600  12.939333  77.553982  \n",
       "...              ...           ...                ...        ...        ...  \n",
       "51712  Pubs and bars    Whitefield              40500        NaN        NaN  \n",
       "51713  Pubs and bars    Whitefield                  0        NaN        NaN  \n",
       "51714  Pubs and bars    Whitefield                  0        NaN        NaN  \n",
       "51715  Pubs and bars    Whitefield             590000        NaN        NaN  \n",
       "51716  Pubs and bars    Whitefield              19500        NaN        NaN  \n",
       "\n",
       "[51717 rows x 13 columns]"
      ]
     },
     "execution_count": 47,
     "metadata": {},
     "output_type": "execute_result"
    }
   ],
   "source": [
    "merged_df"
   ]
  },
  {
   "cell_type": "code",
   "execution_count": 54,
   "id": "eef0c20c-44b4-435a-ad9f-96950bca12f7",
   "metadata": {},
   "outputs": [
    {
     "name": "stdout",
     "output_type": "stream",
     "text": [
      "Collecting folium\n",
      "  Downloading folium-0.20.0-py2.py3-none-any.whl.metadata (4.2 kB)\n",
      "Collecting branca>=0.6.0 (from folium)\n",
      "  Downloading branca-0.8.1-py3-none-any.whl.metadata (1.5 kB)\n",
      "Requirement already satisfied: jinja2>=2.9 in c:\\users\\dappi\\anaconda3\\lib\\site-packages (from folium) (3.1.3)\n",
      "Requirement already satisfied: numpy in c:\\users\\dappi\\anaconda3\\lib\\site-packages (from folium) (1.26.4)\n",
      "Requirement already satisfied: requests in c:\\users\\dappi\\anaconda3\\lib\\site-packages (from folium) (2.31.0)\n",
      "Requirement already satisfied: xyzservices in c:\\users\\dappi\\anaconda3\\lib\\site-packages (from folium) (2022.9.0)\n",
      "Requirement already satisfied: MarkupSafe>=2.0 in c:\\users\\dappi\\anaconda3\\lib\\site-packages (from jinja2>=2.9->folium) (2.1.3)\n",
      "Requirement already satisfied: charset-normalizer<4,>=2 in c:\\users\\dappi\\anaconda3\\lib\\site-packages (from requests->folium) (2.0.4)\n",
      "Requirement already satisfied: idna<4,>=2.5 in c:\\users\\dappi\\anaconda3\\lib\\site-packages (from requests->folium) (3.4)\n",
      "Requirement already satisfied: urllib3<3,>=1.21.1 in c:\\users\\dappi\\anaconda3\\lib\\site-packages (from requests->folium) (2.0.7)\n",
      "Requirement already satisfied: certifi>=2017.4.17 in c:\\users\\dappi\\anaconda3\\lib\\site-packages (from requests->folium) (2025.1.31)\n",
      "Downloading folium-0.20.0-py2.py3-none-any.whl (113 kB)\n",
      "   ---------------------------------------- 0.0/113.4 kB ? eta -:--:--\n",
      "   ---------------------------------------- 0.0/113.4 kB ? eta -:--:--\n",
      "   --- ------------------------------------ 10.2/113.4 kB ? eta -:--:--\n",
      "   ---------- ---------------------------- 30.7/113.4 kB 435.7 kB/s eta 0:00:01\n",
      "   ------------------------ -------------- 71.7/113.4 kB 653.6 kB/s eta 0:00:01\n",
      "   -------------------------------------  112.6/113.4 kB 930.9 kB/s eta 0:00:01\n",
      "   -------------------------------------- 113.4/113.4 kB 599.7 kB/s eta 0:00:00\n",
      "Downloading branca-0.8.1-py3-none-any.whl (26 kB)\n",
      "Installing collected packages: branca, folium\n",
      "Successfully installed branca-0.8.1 folium-0.20.0\n",
      "Requirement already satisfied: IPython in c:\\users\\dappi\\anaconda3\\lib\\site-packages (8.20.0)\n",
      "Requirement already satisfied: decorator in c:\\users\\dappi\\anaconda3\\lib\\site-packages (from IPython) (5.1.1)\n",
      "Requirement already satisfied: jedi>=0.16 in c:\\users\\dappi\\anaconda3\\lib\\site-packages (from IPython) (0.18.1)\n",
      "Requirement already satisfied: matplotlib-inline in c:\\users\\dappi\\anaconda3\\lib\\site-packages (from IPython) (0.1.6)\n",
      "Requirement already satisfied: prompt-toolkit<3.1.0,>=3.0.41 in c:\\users\\dappi\\anaconda3\\lib\\site-packages (from IPython) (3.0.43)\n",
      "Requirement already satisfied: pygments>=2.4.0 in c:\\users\\dappi\\anaconda3\\lib\\site-packages (from IPython) (2.15.1)\n",
      "Requirement already satisfied: stack-data in c:\\users\\dappi\\anaconda3\\lib\\site-packages (from IPython) (0.2.0)\n",
      "Requirement already satisfied: traitlets>=5 in c:\\users\\dappi\\anaconda3\\lib\\site-packages (from IPython) (5.7.1)\n",
      "Requirement already satisfied: colorama in c:\\users\\dappi\\anaconda3\\lib\\site-packages (from IPython) (0.4.6)\n",
      "Requirement already satisfied: parso<0.9.0,>=0.8.0 in c:\\users\\dappi\\anaconda3\\lib\\site-packages (from jedi>=0.16->IPython) (0.8.3)\n",
      "Requirement already satisfied: wcwidth in c:\\users\\dappi\\anaconda3\\lib\\site-packages (from prompt-toolkit<3.1.0,>=3.0.41->IPython) (0.2.5)\n",
      "Requirement already satisfied: executing in c:\\users\\dappi\\anaconda3\\lib\\site-packages (from stack-data->IPython) (0.8.3)\n",
      "Requirement already satisfied: asttokens in c:\\users\\dappi\\anaconda3\\lib\\site-packages (from stack-data->IPython) (2.0.5)\n",
      "Requirement already satisfied: pure-eval in c:\\users\\dappi\\anaconda3\\lib\\site-packages (from stack-data->IPython) (0.2.2)\n",
      "Requirement already satisfied: six in c:\\users\\dappi\\anaconda3\\lib\\site-packages (from asttokens->stack-data->IPython) (1.16.0)\n"
     ]
    }
   ],
   "source": [
    "!pip install folium\n",
    "!pip install IPython"
   ]
  },
  {
   "cell_type": "code",
   "execution_count": 57,
   "id": "fee0efb2-6cb5-461f-a91a-6677b13f6ad1",
   "metadata": {},
   "outputs": [],
   "source": [
    "from folium.plugins import MarkerCluster\n",
    "import folium \n",
    "from IPython.display import IFrame"
   ]
  },
  {
   "cell_type": "code",
   "execution_count": null,
   "id": "304d8fe7-f606-460a-892d-f0669cd1a0a7",
   "metadata": {},
   "outputs": [],
   "source": []
  },
  {
   "cell_type": "code",
   "execution_count": null,
   "id": "047d9279-f216-4534-828e-e589a5d72b6f",
   "metadata": {},
   "outputs": [],
   "source": []
  },
  {
   "cell_type": "code",
   "execution_count": 52,
   "id": "58d9a03b-523e-4ff3-b4df-5554a87cae9d",
   "metadata": {},
   "outputs": [],
   "source": [
    "italian_df = df[df['cuisines'].str.contains('Italian')]\n"
   ]
  },
  {
   "cell_type": "code",
   "execution_count": 64,
   "id": "4a175fb9-d69b-4374-b5b2-76507180f92a",
   "metadata": {},
   "outputs": [
    {
     "name": "stdout",
     "output_type": "stream",
     "text": [
      "<class 'pandas.core.frame.DataFrame'>\n",
      "RangeIndex: 51717 entries, 0 to 51716\n",
      "Data columns (total 13 columns):\n",
      " #   Column                     Non-Null Count  Dtype  \n",
      "---  ------                     --------------  -----  \n",
      " 0   online_order               51717 non-null  int64  \n",
      " 1   book_table                 51717 non-null  int64  \n",
      " 2   rate                       51717 non-null  float64\n",
      " 3   votes                      51717 non-null  int64  \n",
      " 4   rest_type                  51717 non-null  object \n",
      " 5   dish_liked                 51717 non-null  object \n",
      " 6   cuisines                   51717 non-null  object \n",
      " 7   approx_costfor_two_people  51717 non-null  int32  \n",
      " 8   listed_intype              51717 non-null  object \n",
      " 9   listed_incity              51717 non-null  object \n",
      " 10  potential_revenue          51717 non-null  int64  \n",
      " 11  Latitude                   46137 non-null  float64\n",
      " 12  Longitude                  46137 non-null  float64\n",
      "dtypes: float64(3), int32(1), int64(4), object(5)\n",
      "memory usage: 4.9+ MB\n"
     ]
    }
   ],
   "source": [
    "merged_df.info()"
   ]
  },
  {
   "cell_type": "code",
   "execution_count": 67,
   "id": "e787d8b6-02ec-426a-b6be-994ecb1177f2",
   "metadata": {},
   "outputs": [],
   "source": [
    "df_clean = merged_df.dropna(subset=['Latitude', 'Longitude'],inplace=True)"
   ]
  },
  {
   "cell_type": "code",
   "execution_count": 77,
   "id": "6f7149a8-3a7b-474b-9be8-cab416c5fad7",
   "metadata": {},
   "outputs": [
    {
     "name": "stdout",
     "output_type": "stream",
     "text": [
      "<class 'pandas.core.frame.DataFrame'>\n",
      "RangeIndex: 51717 entries, 0 to 51716\n",
      "Data columns (total 11 columns):\n",
      " #   Column                     Non-Null Count  Dtype  \n",
      "---  ------                     --------------  -----  \n",
      " 0   online_order               51717 non-null  int64  \n",
      " 1   book_table                 51717 non-null  int64  \n",
      " 2   rate                       51717 non-null  float64\n",
      " 3   votes                      51717 non-null  int64  \n",
      " 4   rest_type                  51717 non-null  object \n",
      " 5   dish_liked                 51717 non-null  object \n",
      " 6   cuisines                   51717 non-null  object \n",
      " 7   approx_costfor_two_people  51717 non-null  int32  \n",
      " 8   listed_intype              51717 non-null  object \n",
      " 9   listed_incity              51717 non-null  object \n",
      " 10  potential_revenue          51717 non-null  int64  \n",
      "dtypes: float64(1), int32(1), int64(4), object(5)\n",
      "memory usage: 4.1+ MB\n"
     ]
    }
   ],
   "source": [
    "df.info()"
   ]
  },
  {
   "cell_type": "code",
   "execution_count": null,
   "id": "19889e1f-aade-4cec-b353-a899b15005eb",
   "metadata": {},
   "outputs": [],
   "source": []
  }
 ],
 "metadata": {
  "kernelspec": {
   "display_name": "Python 3 (ipykernel)",
   "language": "python",
   "name": "python3"
  },
  "language_info": {
   "codemirror_mode": {
    "name": "ipython",
    "version": 3
   },
   "file_extension": ".py",
   "mimetype": "text/x-python",
   "name": "python",
   "nbconvert_exporter": "python",
   "pygments_lexer": "ipython3",
   "version": "3.11.7"
  }
 },
 "nbformat": 4,
 "nbformat_minor": 5
}
